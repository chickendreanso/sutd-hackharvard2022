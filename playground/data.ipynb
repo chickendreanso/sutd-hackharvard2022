{
 "cells": [
  {
   "cell_type": "code",
   "execution_count": 54,
   "metadata": {},
   "outputs": [],
   "source": [
    "import json \n",
    "import csv \n",
    "import pandas as pd\n",
    "\n",
    "# f = open('result.json')\n",
    "# data = json.load(f)\n",
    "\n",
    "# dp = pd.read_json('result.json')\n",
    "with open('result.json', encoding='utf-8') as f:\n",
    "    data = json.load(f)\n",
    "\n",
    "\n",
    "\n"
   ]
  },
  {
   "cell_type": "code",
   "execution_count": 55,
   "metadata": {},
   "outputs": [],
   "source": [
    "# filter data with user name = jeff \n",
    "# jeff_data = data[data['user_name'] == 'jeff']\n",
    "chats = data['chats']['list']"
   ]
  },
  {
   "cell_type": "code",
   "execution_count": 56,
   "metadata": {},
   "outputs": [],
   "source": [
    "saved_message = chats[1]"
   ]
  },
  {
   "cell_type": "code",
   "execution_count": 57,
   "metadata": {},
   "outputs": [],
   "source": [
    "\n",
    "\n",
    "\n",
    "saved_message_list = saved_message['messages']\n",
    "\n",
    "\n",
    "# messages = list( map(lambda x: x['text'], saved_message_list))\n",
    "\n",
    "\n",
    "# messages\n",
    "# my messages\n",
    "\n"
   ]
  },
  {
   "cell_type": "code",
   "execution_count": 58,
   "metadata": {},
   "outputs": [],
   "source": [
    "import time\n",
    "messages = []\n",
    "\n",
    "\n",
    "for i in range(len(saved_message_list)):\n",
    "   \n",
    "    try:\n",
    "        if saved_message_list[i]['from'] == \"Jeff Lai\":\n",
    "            if type(saved_message_list[i]['text']) == str:\n",
    "                messages.append(saved_message_list[i]['text'])\n",
    "            # pause for 0.001 s \n",
    "    except: \n",
    "         if type(saved_message_list[i]['text']) == str:\n",
    "                messages.append(saved_message_list[i]['text'])\n",
    "\n",
    "    \n",
    "        \n"
   ]
  }
 ],
 "metadata": {
  "kernelspec": {
   "display_name": "Python 3.9.12 ('base')",
   "language": "python",
   "name": "python3"
  },
  "language_info": {
   "codemirror_mode": {
    "name": "ipython",
    "version": 3
   },
   "file_extension": ".py",
   "mimetype": "text/x-python",
   "name": "python",
   "nbconvert_exporter": "python",
   "pygments_lexer": "ipython3",
   "version": "3.9.12"
  },
  "orig_nbformat": 4,
  "vscode": {
   "interpreter": {
    "hash": "f32e97ed22b629a2a80495b6bd53fcf4c3356c97737500ab7d41be9e3f29e401"
   }
  }
 },
 "nbformat": 4,
 "nbformat_minor": 2
}
